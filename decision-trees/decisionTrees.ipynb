{
 "cells": [
  {
   "cell_type": "markdown",
   "id": "ee7360c6",
   "metadata": {},
   "source": [
    "# Decision Tree (CART) from scratch"
   ]
  },
  {
   "cell_type": "markdown",
   "id": "4c428b07",
   "metadata": {},
   "source": [
    "Below you can find the implementation from strach of a Decision Tree Algorithm using CART. \n",
    "\n",
    "The final model achieves a 98% accuracy when applied on the Iris Dataset.\n",
    "\n",
    "For more details regarding the inspiration for this code, don't forget to check out [Sujan Dutta](https://github.com/Suji04/ML_from_Scratch/blob/master/decision%20tree%20classification.ipynb) work and also his (video)[(https://www.youtube.com/watch?v=sgQAhG5Q7iY&ab_channel=NormalizedNerd)] on the topic"
   ]
  },
  {
   "cell_type": "markdown",
   "id": "801d44f6",
   "metadata": {},
   "source": [
    "#### Imports"
   ]
  },
  {
   "cell_type": "code",
   "execution_count": null,
   "id": "70df1c78",
   "metadata": {},
   "outputs": [],
   "source": [
    "from sklearn.datasets import load_iris\n",
    "from sklearn.metrics import classification_report\n",
    "from sklearn.model_selection import train_test_split\n",
    "import pandas as pd\n",
    "import numpy as np\n",
    "from toolz import curry\n",
    "from statistics import mode"
   ]
  },
  {
   "cell_type": "markdown",
   "id": "0a1f4d63",
   "metadata": {},
   "source": [
    "#### Loading the data and splitting into train and test"
   ]
  },
  {
   "cell_type": "code",
   "execution_count": 2,
   "id": "dc6f5578",
   "metadata": {},
   "outputs": [],
   "source": [
    "iris = load_iris()"
   ]
  },
  {
   "cell_type": "code",
   "execution_count": null,
   "id": "839be631",
   "metadata": {},
   "outputs": [],
   "source": [
    "X = pd.DataFrame(iris.data, columns = iris.feature_names)\n",
    "y = pd.DataFrame(iris.target, columns = ['type'])"
   ]
  },
  {
   "cell_type": "markdown",
   "id": "11b5d043",
   "metadata": {},
   "source": [
    "#### Node Class implementation\n",
    "\n",
    "This node class will be the basis for saving the decision tree as we build it. The ideia is to instanciate a Node and for each following iteration, save the respective branches into the Node itself"
   ]
  },
  {
   "cell_type": "code",
   "execution_count": null,
   "id": "1e96339c",
   "metadata": {
    "vscode": {
     "languageId": "plaintext"
    }
   },
   "outputs": [],
   "source": [
    "class Node():\n",
    "    def __init__(self, feature_name = None, threshold = None, left_subtree = None, right_subtree = None, information_gain = None, value = None):\n",
    "        self.feature_name = feature_name\n",
    "        self.threshold = threshold\n",
    "        self.left_subtree = left_subtree\n",
    "        self.right_subtree = right_subtree\n",
    "        self.information_gain = information_gain\n",
    "        self.value = value"
   ]
  },
  {
   "cell_type": "markdown",
   "id": "1a534cee",
   "metadata": {},
   "source": [
    "#### Decision Tree Class\n",
    "\n",
    "Below you can find the model class, which contains functions such as: \n",
    "\n",
    "- `calculate_impurity` to evaluate how pure the splits are\n",
    "- `get_best_split` to find iteractively the best feature and threshold that maximizes the information gain\n",
    "- `fit` which is a recursive function that evaluates the best split and saves the subtrees into a Node class\n",
    "- `predict` that given a sample, make the way through the tree and return the majority class of the leaf node"
   ]
  },
  {
   "cell_type": "code",
   "execution_count": 372,
   "id": "4bdfb944",
   "metadata": {},
   "outputs": [],
   "source": [
    "class DecisionTreeClassifier():\n",
    "\n",
    "    def __init__(self, max_depth=2, min_num_samples = 2):\n",
    "        self.max_depth = max_depth\n",
    "        self.min_num_samples = min_num_samples\n",
    "        \n",
    "    def calculate_impurity(self, data: pd.DataFrame, method: str = \"gini\"):\n",
    "            assert method in [\"gini\", \"entropy\"], \"Not a valid method\"\n",
    "            if method == \"entropy\":\n",
    "                impurity = 0\n",
    "                classes_prob = data.value_counts(normalize=True)\n",
    "                for class_name in classes_prob.keys():\n",
    "                    impurity -= classes_prob[class_name] * np.log2(classes_prob[class_name])\n",
    "                return impurity\n",
    "            impurity = 0\n",
    "            classes_prob = data.value_counts(normalize=True)\n",
    "            for class_name in classes_prob.keys():\n",
    "                impurity += classes_prob[class_name] * (1 - classes_prob[class_name])\n",
    "            return impurity\n",
    "        \n",
    "    def get_best_split(self, data: pd.DataFrame):        \n",
    "        best_split = {}\n",
    "\n",
    "        X = data.iloc[:,:-1]\n",
    "        y = data.iloc[:,-1]\n",
    "\n",
    "        # The negative infity ensures the first iteration will be valid, even in case of a pure node (information gain==0)\n",
    "        best_information_gain = np.NINF\n",
    "\n",
    "        for feature in X.columns:\n",
    "\n",
    "            for threshold in X[feature].unique():\n",
    "\n",
    "                #Split the dataset into left and right according to the threshold\n",
    "                right_df, right_target = X[X[feature] >= threshold], y[X[feature] >= threshold]\n",
    "                left_df, left_target = X[X[feature] < threshold], y[X[feature] < threshold]\n",
    "\n",
    "                #Calculate the impurity of the split\n",
    "                impurity_method = \"gini\"\n",
    "                right_imp = self.calculate_impurity(right_target, impurity_method)\n",
    "                left_imp = self.calculate_impurity(left_target, impurity_method)\n",
    "                father_node_imp = self.calculate_impurity(y, impurity_method)\n",
    "\n",
    "                #Calculate the information gain\n",
    "                weights = [right_df.shape[0], left_df.shape[0]]\n",
    "                impurity_weighted = np.average([right_imp, left_imp], weights = weights)\n",
    "                information_gain = father_node_imp - impurity_weighted\n",
    "\n",
    "                #Save the current best split\n",
    "                if information_gain > best_information_gain:\n",
    "                    best_split['feature'] = feature\n",
    "                    best_split['threshold'] = threshold\n",
    "                    best_split['right_df'] = pd.concat([right_df, right_target], axis = 1)\n",
    "                    best_split['left_df'] = pd.concat([left_df, left_target], axis = 1)\n",
    "                    best_split['information_gain'] = information_gain\n",
    "                    best_information_gain = information_gain\n",
    "\n",
    "        return best_split\n",
    "    \n",
    "    def fit(self, data, current_depth = 0):\n",
    "    \n",
    "        if current_depth <= max_depth and data.shape[0]>=min_samples: # Check stopping conditions\n",
    "            best_split = self.get_best_split(data)\n",
    "\n",
    "            if best_split['information_gain']>0: #This if statement will only occur if the node isn't pure\n",
    "                right_tree = self.fit(best_split['right_df'], current_depth + 1)\n",
    "                left_tree = self.fit(best_split['left_df'], current_depth + 1)\n",
    "\n",
    "                return Node(best_split['feature'], best_split['threshold'], left_tree, right_tree, best_split['information_gain'])\n",
    "\n",
    "        value = mode(data['type'])  #If the node is pure, we can return the majority class\n",
    "        return Node(value = value)\n",
    "    \n",
    "    @curry\n",
    "    def predict(self, sample, tree):    \n",
    "        if tree.value == None: #If the node isn't a leaf node, we can make our way through the tree until we reach one\n",
    "            if sample[tree.feature_name] >= tree.threshold:\n",
    "                return self.predict(sample, tree.right_subtree)\n",
    "            if sample[tree.feature_name] < tree.threshold:\n",
    "                return self.predict(sample, tree.left_subtree)\n",
    "        else:\n",
    "            return tree.value #In case we end in a leaf node, return the associated value (majority class)"
   ]
  },
  {
   "cell_type": "code",
   "execution_count": 373,
   "id": "53419a5e",
   "metadata": {},
   "outputs": [],
   "source": [
    "clf = DecisionTreeClassifier(max_depth = 2, min_num_samples= 2)"
   ]
  },
  {
   "cell_type": "code",
   "execution_count": 374,
   "id": "fa52e3c8",
   "metadata": {},
   "outputs": [],
   "source": [
    "X_train, X_test, y_train, y_test  = train_test_split(X, y, test_size = 0.33, random_state = 42)"
   ]
  },
  {
   "cell_type": "code",
   "execution_count": 375,
   "id": "74e6ddc8",
   "metadata": {},
   "outputs": [],
   "source": [
    "train_set = pd.concat([X_train, y_train], axis = 1)"
   ]
  },
  {
   "cell_type": "code",
   "execution_count": 376,
   "id": "9aecc19e",
   "metadata": {
    "scrolled": true
   },
   "outputs": [],
   "source": [
    "trained_clf = clf.fit(train_set)"
   ]
  },
  {
   "cell_type": "code",
   "execution_count": 377,
   "id": "d9c5804e",
   "metadata": {},
   "outputs": [],
   "source": [
    "apply_pred = lambda x: clf.predict(x, trained_clf)\n",
    "\n",
    "y_pred = X_test.apply(apply_pred, axis =1)"
   ]
  },
  {
   "cell_type": "code",
   "execution_count": 382,
   "id": "b989b842",
   "metadata": {},
   "outputs": [
    {
     "name": "stdout",
     "output_type": "stream",
     "text": [
      "              precision    recall  f1-score   support\n",
      "\n",
      "           0       1.00      1.00      1.00        19\n",
      "           1       1.00      0.94      0.97        16\n",
      "           2       0.94      1.00      0.97        15\n",
      "\n",
      "    accuracy                           0.98        50\n",
      "   macro avg       0.98      0.98      0.98        50\n",
      "weighted avg       0.98      0.98      0.98        50\n",
      "\n"
     ]
    }
   ],
   "source": [
    "print(classification_report(y_pred, y_test))"
   ]
  }
 ],
 "metadata": {
  "kernelspec": {
   "display_name": "Python 3 (ipykernel)",
   "language": "python",
   "name": "python3"
  },
  "language_info": {
   "codemirror_mode": {
    "name": "ipython",
    "version": 3
   },
   "file_extension": ".py",
   "mimetype": "text/x-python",
   "name": "python",
   "nbconvert_exporter": "python",
   "pygments_lexer": "ipython3",
   "version": "3.9.12"
  }
 },
 "nbformat": 4,
 "nbformat_minor": 5
}
